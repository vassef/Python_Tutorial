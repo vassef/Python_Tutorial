{
 "cells": [
  {
   "cell_type": "markdown",
   "id": "a36719d2",
   "metadata": {},
   "source": [
    "# Probability and Statistics Fall 1400\n",
    "## Python Tuturial - Part 1 \n",
    "* Prepared by : Shayan Vassef\n",
    "* Email : sh.vassef@ut.ac.ir\n",
    "\n",
    "![Python](Python-Tutorial.png)"
   ]
  },
  {
   "cell_type": "markdown",
   "id": "d2caa0ec",
   "metadata": {},
   "source": [
    "\n",
    "## Why Python?\n",
    "* Easy to Learn and Use\n",
    "* Supportive Python Community(There are plenty of documentation, guides and Video Tutorials for Python language are available)\n",
    "* Support from Renowned Corporate Sponsors (Python Programming language is heavily backed by Facebook, Amazon Web Services, and especially Google.)\n",
    "* Hundreds of Python Libraries and Frameworks\n",
    "* Versatility, Efficiency, Reliability, and Speed(Python can be used in many varieties of environments such as mobile applications, desktop applications, web development, hardware programming, and many more.)\n",
    "* Big data, Machine Learning and Cloud Computing\n",
    "* The Flexibility of Python Language\n",
    "* and so on ..."
   ]
  },
  {
   "cell_type": "markdown",
   "id": "c9c68436",
   "metadata": {},
   "source": [
    "## What are IDEs and Code Editors?"
   ]
  },
  {
   "cell_type": "markdown",
   "id": "4abe8d2d",
   "metadata": {},
   "source": [
    "**IDE**(Integrated Development Environment)is a software that consists of common developer tools majorly consists of a **source code editor** for writing software code, **local build** automation for creating a local build of the software like compiling computer source code. Lastly, it has a **debugger**, a program for testing other programs.\\\n",
    "**Code editors** are like a text editor with some added functionalities. It is not an IDE as an IDE has many developer tools. Depending upon the language one codes on the editor, it highlights special keywords and gives some suggestions. Sublime Text, Atom, Visual Studio Code are some of the popular code editors. "
   ]
  },
  {
   "cell_type": "markdown",
   "id": "dc0b9246",
   "metadata": {},
   "source": [
    "![IDEs](IDEs.png)"
   ]
  },
  {
   "cell_type": "markdown",
   "id": "e66d875b",
   "metadata": {},
   "source": [
    "## Installing Anaconda"
   ]
  },
  {
   "cell_type": "markdown",
   "id": "cb7f524a",
   "metadata": {},
   "source": [
    "You can find the installation in this [link](https://www.anaconda.com/products/individual)."
   ]
  },
  {
   "cell_type": "markdown",
   "id": "dff29bc9",
   "metadata": {},
   "source": [
    "## Let's get started !"
   ]
  },
  {
   "cell_type": "markdown",
   "id": "9253e225",
   "metadata": {},
   "source": [
    "\n",
    "**This notebook will just go through the basic topics in order:**\n",
    "\n",
    "* Data types\n",
    "    * Numbers\n",
    "    * Strings\n",
    "    * Printing\n",
    "    * Lists\n",
    "    * Dictionaries\n",
    "    * Tuples \n",
    "    * Booleans\n",
    "    * Sets\n",
    "* Comparison Operators\n",
    "* if, elif, else Statements\n",
    "* for Loops\n",
    "* while Loops\n",
    "* Useful Operators\n",
    "* list comprehension\n",
    "* functions\n",
    "* lambda expressions\n",
    "* map and filter"
   ]
  },
  {
   "cell_type": "markdown",
   "id": "9c9bd404",
   "metadata": {},
   "source": [
    "# <font color='red'>Data types</font>\n",
    "\n",
    "## <font color='green'>Numbers</font> \n",
    "Here is a table of the two main types we will spend most of our time working with some examples:\n",
    "<table>\n",
    "<tr>\n",
    "    <th>Examples</th> \n",
    "    <th>Number \"Type\"</th>\n",
    "</tr>\n",
    "\n",
    "<tr>\n",
    "    <td>1,2,-5,1000</td>\n",
    "    <td>Integers</td> \n",
    "</tr>\n",
    "\n",
    "<tr>\n",
    "    <td>1.2,-0.5,2e2,3E2</td> \n",
    "    <td>Floating-point numbers</td> \n",
    "</tr>\n",
    " </table>"
   ]
  },
  {
   "cell_type": "code",
   "execution_count": 74,
   "id": "5e8a44df",
   "metadata": {},
   "outputs": [
    {
     "data": {
      "text/plain": [
       "23"
      ]
     },
     "execution_count": 74,
     "metadata": {},
     "output_type": "execute_result"
    }
   ],
   "source": [
    "int(23.2)"
   ]
  },
  {
   "cell_type": "code",
   "execution_count": 80,
   "id": "5fdbadef",
   "metadata": {},
   "outputs": [
    {
     "data": {
      "text/plain": [
       "5"
      ]
     },
     "execution_count": 80,
     "metadata": {},
     "output_type": "execute_result"
    }
   ],
   "source": [
    "int('5')"
   ]
  },
  {
   "cell_type": "code",
   "execution_count": 78,
   "id": "4bd57de2",
   "metadata": {},
   "outputs": [
    {
     "data": {
      "text/plain": [
       "23.0"
      ]
     },
     "execution_count": 78,
     "metadata": {},
     "output_type": "execute_result"
    }
   ],
   "source": [
    "float(23)"
   ]
  },
  {
   "cell_type": "code",
   "execution_count": 1,
   "id": "438f13f4",
   "metadata": {},
   "outputs": [
    {
     "name": "stdout",
     "output_type": "stream",
     "text": [
      "Enter your number : 20\n"
     ]
    },
    {
     "data": {
      "text/plain": [
       "'2020'"
      ]
     },
     "execution_count": 1,
     "metadata": {},
     "output_type": "execute_result"
    }
   ],
   "source": [
    "a= input(\"Enter your number : \")\n",
    "a+a"
   ]
  },
  {
   "cell_type": "code",
   "execution_count": 3,
   "id": "d0f7741f",
   "metadata": {},
   "outputs": [
    {
     "name": "stdout",
     "output_type": "stream",
     "text": [
      "Enter your number : 20\n"
     ]
    },
    {
     "data": {
      "text/plain": [
       "40"
      ]
     },
     "execution_count": 3,
     "metadata": {},
     "output_type": "execute_result"
    }
   ],
   "source": [
    "a=int(input(\"Enter your number : \"))\n",
    "a+a"
   ]
  },
  {
   "cell_type": "code",
   "execution_count": 79,
   "id": "165566e5",
   "metadata": {},
   "outputs": [
    {
     "data": {
      "text/plain": [
       "12.0"
      ]
     },
     "execution_count": 79,
     "metadata": {},
     "output_type": "execute_result"
    }
   ],
   "source": [
    "float('12')"
   ]
  },
  {
   "cell_type": "code",
   "execution_count": 3,
   "id": "bacb97a9",
   "metadata": {},
   "outputs": [
    {
     "data": {
      "text/plain": [
       "3"
      ]
     },
     "execution_count": 3,
     "metadata": {},
     "output_type": "execute_result"
    }
   ],
   "source": [
    "2+1"
   ]
  },
  {
   "cell_type": "code",
   "execution_count": 5,
   "id": "a45ce84f",
   "metadata": {},
   "outputs": [
    {
     "data": {
      "text/plain": [
       "4"
      ]
     },
     "execution_count": 5,
     "metadata": {},
     "output_type": "execute_result"
    }
   ],
   "source": [
    "2*2"
   ]
  },
  {
   "cell_type": "code",
   "execution_count": 7,
   "id": "a9b4246a",
   "metadata": {},
   "outputs": [
    {
     "data": {
      "text/plain": [
       "1"
      ]
     },
     "execution_count": 7,
     "metadata": {},
     "output_type": "execute_result"
    }
   ],
   "source": [
    "# Floor Division\n",
    "7//4"
   ]
  },
  {
   "cell_type": "code",
   "execution_count": 8,
   "id": "953807ec",
   "metadata": {},
   "outputs": [
    {
     "data": {
      "text/plain": [
       "3"
      ]
     },
     "execution_count": 8,
     "metadata": {},
     "output_type": "execute_result"
    }
   ],
   "source": [
    "# Modulo\n",
    "7%4"
   ]
  },
  {
   "cell_type": "code",
   "execution_count": 9,
   "id": "443c48f2",
   "metadata": {},
   "outputs": [
    {
     "data": {
      "text/plain": [
       "8"
      ]
     },
     "execution_count": 9,
     "metadata": {},
     "output_type": "execute_result"
    }
   ],
   "source": [
    "# Powers\n",
    "2**3"
   ]
  },
  {
   "cell_type": "code",
   "execution_count": 10,
   "id": "8acf77f0",
   "metadata": {},
   "outputs": [
    {
     "data": {
      "text/plain": [
       "2.0"
      ]
     },
     "execution_count": 10,
     "metadata": {},
     "output_type": "execute_result"
    }
   ],
   "source": [
    "# Can also do roots this way\n",
    "4**0.5"
   ]
  },
  {
   "cell_type": "markdown",
   "id": "673d2c54",
   "metadata": {},
   "source": [
    "### Variable Assignment"
   ]
  },
  {
   "cell_type": "code",
   "execution_count": 11,
   "id": "bf533c87",
   "metadata": {},
   "outputs": [],
   "source": [
    "a = 5"
   ]
  },
  {
   "cell_type": "code",
   "execution_count": 12,
   "id": "720754b5",
   "metadata": {},
   "outputs": [
    {
     "data": {
      "text/plain": [
       "10"
      ]
     },
     "execution_count": 12,
     "metadata": {},
     "output_type": "execute_result"
    }
   ],
   "source": [
    "a+a"
   ]
  },
  {
   "cell_type": "code",
   "execution_count": 2,
   "id": "05944f03",
   "metadata": {},
   "outputs": [],
   "source": [
    "a=10"
   ]
  },
  {
   "cell_type": "code",
   "execution_count": 3,
   "id": "a9b49a21",
   "metadata": {},
   "outputs": [],
   "source": [
    "a = a + a"
   ]
  },
  {
   "cell_type": "code",
   "execution_count": 5,
   "id": "dbe4f8ad",
   "metadata": {},
   "outputs": [
    {
     "data": {
      "text/plain": [
       "20"
      ]
     },
     "execution_count": 5,
     "metadata": {},
     "output_type": "execute_result"
    }
   ],
   "source": [
    "a"
   ]
  },
  {
   "cell_type": "code",
   "execution_count": 31,
   "id": "93a39602",
   "metadata": {},
   "outputs": [],
   "source": [
    "# Use object names to keep better track of what's going on in your code!\n",
    "my_income = 100\n",
    "\n",
    "tax_rate = 0.1\n",
    "\n",
    "my_taxes = my_income*tax_rate"
   ]
  },
  {
   "cell_type": "code",
   "execution_count": 32,
   "id": "ffd72551",
   "metadata": {},
   "outputs": [
    {
     "data": {
      "text/plain": [
       "10.0"
      ]
     },
     "execution_count": 32,
     "metadata": {},
     "output_type": "execute_result"
    }
   ],
   "source": [
    "my_taxes"
   ]
  },
  {
   "cell_type": "code",
   "execution_count": 28,
   "id": "ac081fbc",
   "metadata": {},
   "outputs": [],
   "source": [
    "Mycourses=['Probability and Statistics','Signal and Systems']"
   ]
  },
  {
   "cell_type": "code",
   "execution_count": 29,
   "id": "01fc79d6",
   "metadata": {},
   "outputs": [
    {
     "data": {
      "text/plain": [
       "['Probability and Statistics', 'Signal and Systems']"
      ]
     },
     "execution_count": 29,
     "metadata": {},
     "output_type": "execute_result"
    }
   ],
   "source": [
    "Mycourses"
   ]
  },
  {
   "cell_type": "markdown",
   "id": "efbfc7a6",
   "metadata": {},
   "source": [
    "**Determining variable type with `type()`**\n",
    "You can check what type of object is assigned to a variable using Python's built-in `type()` function. Common data types include:\n",
    "* **int** (for integer)\n",
    "* **float**\n",
    "* **str** (for string)\n",
    "* **list**\n",
    "* **tuple**\n",
    "* **dict** (for dictionary)\n",
    "* **set**\n",
    "* **bool** (for Boolean True/False)"
   ]
  },
  {
   "cell_type": "code",
   "execution_count": 33,
   "id": "c045c6a4",
   "metadata": {},
   "outputs": [
    {
     "data": {
      "text/plain": [
       "int"
      ]
     },
     "execution_count": 33,
     "metadata": {},
     "output_type": "execute_result"
    }
   ],
   "source": [
    "type(a)"
   ]
  },
  {
   "cell_type": "code",
   "execution_count": 34,
   "id": "c8b61887",
   "metadata": {},
   "outputs": [],
   "source": [
    "a={1,2,3}"
   ]
  },
  {
   "cell_type": "code",
   "execution_count": 35,
   "id": "c566dc86",
   "metadata": {},
   "outputs": [
    {
     "data": {
      "text/plain": [
       "set"
      ]
     },
     "execution_count": 35,
     "metadata": {},
     "output_type": "execute_result"
    }
   ],
   "source": [
    "type(a)"
   ]
  },
  {
   "cell_type": "markdown",
   "id": "125e2548",
   "metadata": {},
   "source": [
    "## <font color='green'>Strings</font> "
   ]
  },
  {
   "cell_type": "code",
   "execution_count": 20,
   "id": "5cfa900f",
   "metadata": {},
   "outputs": [
    {
     "data": {
      "text/plain": [
       "\"Hey I'm up there\""
      ]
     },
     "execution_count": 20,
     "metadata": {},
     "output_type": "execute_result"
    }
   ],
   "source": [
    "\"Hey I'm up there\""
   ]
  },
  {
   "cell_type": "code",
   "execution_count": 41,
   "id": "f2db0b4f",
   "metadata": {},
   "outputs": [
    {
     "data": {
      "text/plain": [
       "\"It's a beautiful world, doesn't it?\""
      ]
     },
     "execution_count": 41,
     "metadata": {},
     "output_type": "execute_result"
    }
   ],
   "source": [
    "\"Hey I'm up there\"\n",
    "\"It's a beautiful world, doesn't it?\""
   ]
  },
  {
   "cell_type": "code",
   "execution_count": 42,
   "id": "2f298a1c",
   "metadata": {},
   "outputs": [
    {
     "name": "stdout",
     "output_type": "stream",
     "text": [
      "Hey I'm up there\n",
      "It's a beautiful world, doesn't it?\n"
     ]
    }
   ],
   "source": [
    "print(\"Hey I'm up there\")\n",
    "print(\"It's a beautiful world, doesn't it?\")"
   ]
  },
  {
   "cell_type": "code",
   "execution_count": 22,
   "id": "70f972fb",
   "metadata": {},
   "outputs": [
    {
     "name": "stdout",
     "output_type": "stream",
     "text": [
      "I'm \n",
      "proud of you\n"
     ]
    }
   ],
   "source": [
    "print(\"I'm \\nproud of you\")"
   ]
  },
  {
   "cell_type": "code",
   "execution_count": 9,
   "id": "53b79648",
   "metadata": {},
   "outputs": [
    {
     "ename": "SyntaxError",
     "evalue": "invalid syntax (<ipython-input-9-b46636db8887>, line 2)",
     "output_type": "error",
     "traceback": [
      "\u001b[1;36m  File \u001b[1;32m\"<ipython-input-9-b46636db8887>\"\u001b[1;36m, line \u001b[1;32m2\u001b[0m\n\u001b[1;33m    'I'm learning python right now !'\u001b[0m\n\u001b[1;37m       ^\u001b[0m\n\u001b[1;31mSyntaxError\u001b[0m\u001b[1;31m:\u001b[0m invalid syntax\n"
     ]
    }
   ],
   "source": [
    "# Be careful with quotes!\n",
    "'I'm learning python right now !'"
   ]
  },
  {
   "cell_type": "code",
   "execution_count": 43,
   "id": "0f289ec3",
   "metadata": {},
   "outputs": [
    {
     "data": {
      "text/plain": [
       "11"
      ]
     },
     "execution_count": 43,
     "metadata": {},
     "output_type": "execute_result"
    }
   ],
   "source": [
    "#Finding the length of a string\n",
    "len('Hello World')"
   ]
  },
  {
   "cell_type": "code",
   "execution_count": 11,
   "id": "3ae76024",
   "metadata": {},
   "outputs": [],
   "source": [
    "mystring=\"hello_shayan\""
   ]
  },
  {
   "cell_type": "code",
   "execution_count": 12,
   "id": "df1eb95c",
   "metadata": {},
   "outputs": [
    {
     "data": {
      "text/plain": [
       "'hello_shayan'"
      ]
     },
     "execution_count": 12,
     "metadata": {},
     "output_type": "execute_result"
    }
   ],
   "source": [
    "mystring"
   ]
  },
  {
   "cell_type": "code",
   "execution_count": 46,
   "id": "469e6b70",
   "metadata": {},
   "outputs": [
    {
     "data": {
      "text/plain": [
       "'h'"
      ]
     },
     "execution_count": 46,
     "metadata": {},
     "output_type": "execute_result"
    }
   ],
   "source": [
    "#Indexing\n",
    "mystring[0]"
   ]
  },
  {
   "cell_type": "code",
   "execution_count": 47,
   "id": "0808a822",
   "metadata": {},
   "outputs": [
    {
     "data": {
      "text/plain": [
       "'_'"
      ]
     },
     "execution_count": 47,
     "metadata": {},
     "output_type": "execute_result"
    }
   ],
   "source": [
    "mystring[5]"
   ]
  },
  {
   "cell_type": "code",
   "execution_count": 48,
   "id": "8818f0ba",
   "metadata": {},
   "outputs": [
    {
     "data": {
      "text/plain": [
       "'a'"
      ]
     },
     "execution_count": 48,
     "metadata": {},
     "output_type": "execute_result"
    }
   ],
   "source": [
    "mystring[-2]"
   ]
  },
  {
   "cell_type": "code",
   "execution_count": 49,
   "id": "e3da4912",
   "metadata": {},
   "outputs": [
    {
     "data": {
      "text/plain": [
       "'hello_shayan'"
      ]
     },
     "execution_count": 49,
     "metadata": {},
     "output_type": "execute_result"
    }
   ],
   "source": [
    "mystring[::1]"
   ]
  },
  {
   "cell_type": "code",
   "execution_count": 50,
   "id": "7033181a",
   "metadata": {},
   "outputs": [
    {
     "data": {
      "text/plain": [
       "'hlosaa'"
      ]
     },
     "execution_count": 50,
     "metadata": {},
     "output_type": "execute_result"
    }
   ],
   "source": [
    "mystring[::2]"
   ]
  },
  {
   "cell_type": "code",
   "execution_count": 51,
   "id": "c1a2b0bc",
   "metadata": {},
   "outputs": [
    {
     "data": {
      "text/plain": [
       "'nayahs_olleh'"
      ]
     },
     "execution_count": 51,
     "metadata": {},
     "output_type": "execute_result"
    }
   ],
   "source": [
    "mystring[::-1]"
   ]
  },
  {
   "cell_type": "code",
   "execution_count": 53,
   "id": "701df319",
   "metadata": {},
   "outputs": [
    {
     "ename": "TypeError",
     "evalue": "'str' object does not support item assignment",
     "output_type": "error",
     "traceback": [
      "\u001b[1;31m---------------------------------------------------------------------------\u001b[0m",
      "\u001b[1;31mTypeError\u001b[0m                                 Traceback (most recent call last)",
      "\u001b[1;32m<ipython-input-53-1642e2fbe6a8>\u001b[0m in \u001b[0;36m<module>\u001b[1;34m\u001b[0m\n\u001b[0;32m      1\u001b[0m \u001b[1;31m#Assignment faild !\u001b[0m\u001b[1;33m\u001b[0m\u001b[1;33m\u001b[0m\u001b[1;33m\u001b[0m\u001b[0m\n\u001b[1;32m----> 2\u001b[1;33m \u001b[0mmystring\u001b[0m\u001b[1;33m[\u001b[0m\u001b[1;36m0\u001b[0m\u001b[1;33m]\u001b[0m \u001b[1;33m=\u001b[0m \u001b[1;34m'H'\u001b[0m\u001b[1;33m\u001b[0m\u001b[1;33m\u001b[0m\u001b[0m\n\u001b[0m",
      "\u001b[1;31mTypeError\u001b[0m: 'str' object does not support item assignment"
     ]
    }
   ],
   "source": [
    "#Assignment faild !\n",
    "mystring[0] = 'H'"
   ]
  },
  {
   "cell_type": "code",
   "execution_count": 55,
   "id": "0f0d330f",
   "metadata": {},
   "outputs": [
    {
     "data": {
      "text/plain": [
       "'hello_shayan Good luck !'"
      ]
     },
     "execution_count": 55,
     "metadata": {},
     "output_type": "execute_result"
    }
   ],
   "source": [
    "mystring + ' Good luck !'"
   ]
  },
  {
   "cell_type": "code",
   "execution_count": 58,
   "id": "6ad54152",
   "metadata": {},
   "outputs": [
    {
     "data": {
      "text/plain": [
       "'aaaaaaaaaa'"
      ]
     },
     "execution_count": 58,
     "metadata": {},
     "output_type": "execute_result"
    }
   ],
   "source": [
    "#create repetition!\n",
    "myletter='a'\n",
    "myletter*10"
   ]
  },
  {
   "cell_type": "markdown",
   "id": "f6f418c2",
   "metadata": {},
   "source": [
    "### Built-in String methods"
   ]
  },
  {
   "cell_type": "code",
   "execution_count": 60,
   "id": "de5609d9",
   "metadata": {},
   "outputs": [
    {
     "data": {
      "text/plain": [
       "'HELLO_SHAYAN'"
      ]
     },
     "execution_count": 60,
     "metadata": {},
     "output_type": "execute_result"
    }
   ],
   "source": [
    "mystring.upper()"
   ]
  },
  {
   "cell_type": "code",
   "execution_count": 61,
   "id": "21170850",
   "metadata": {},
   "outputs": [
    {
     "data": {
      "text/plain": [
       "'hello_shayan'"
      ]
     },
     "execution_count": 61,
     "metadata": {},
     "output_type": "execute_result"
    }
   ],
   "source": [
    "mystring.lower()"
   ]
  },
  {
   "cell_type": "code",
   "execution_count": 66,
   "id": "7f262c16",
   "metadata": {},
   "outputs": [
    {
     "data": {
      "text/plain": [
       "['hello', 'shayan']"
      ]
     },
     "execution_count": 66,
     "metadata": {},
     "output_type": "execute_result"
    }
   ],
   "source": [
    "mystring.split('_')"
   ]
  },
  {
   "cell_type": "code",
   "execution_count": 67,
   "id": "3c351a4b",
   "metadata": {},
   "outputs": [
    {
     "data": {
      "text/plain": [
       "['hello_sh', 'y', 'n']"
      ]
     },
     "execution_count": 67,
     "metadata": {},
     "output_type": "execute_result"
    }
   ],
   "source": [
    "mystring.split('a')"
   ]
  },
  {
   "cell_type": "markdown",
   "id": "35c66c0f",
   "metadata": {},
   "source": [
    "## <font color='green'>Printing</font> "
   ]
  },
  {
   "cell_type": "markdown",
   "id": "0440750d",
   "metadata": {},
   "source": [
    "### Formatting with the .format() method"
   ]
  },
  {
   "cell_type": "code",
   "execution_count": 72,
   "id": "0913abbe",
   "metadata": {},
   "outputs": [
    {
     "name": "stdout",
     "output_type": "stream",
     "text": [
      "Hey, This is shayan , teaching you Python .\n"
     ]
    }
   ],
   "source": [
    "print(\"Hey, This is {} , teaching you {} .\".format('shayan','Python'))"
   ]
  },
  {
   "cell_type": "code",
   "execution_count": 73,
   "id": "45d8e971",
   "metadata": {},
   "outputs": [
    {
     "name": "stdout",
     "output_type": "stream",
     "text": [
      "Hey, This is Python , teaching you shayan .\n"
     ]
    }
   ],
   "source": [
    "print(\"Hey, This is {1} , teaching you {0} .\".format('shayan','Python'))"
   ]
  },
  {
   "cell_type": "code",
   "execution_count": 26,
   "id": "8d3541d6",
   "metadata": {},
   "outputs": [
    {
     "name": "stdout",
     "output_type": "stream",
     "text": [
      "Hey, This is Shayan , teaching you Python .\n"
     ]
    }
   ],
   "source": [
    "print(\"Hey, This is {S} , teaching you {P} .\".format(S='Shayan',P='Python'))"
   ]
  },
  {
   "cell_type": "code",
   "execution_count": 13,
   "id": "87e54267",
   "metadata": {},
   "outputs": [
    {
     "name": "stdout",
     "output_type": "stream",
     "text": [
      "This is my ten-character, two-decimal number:     13.58\n"
     ]
    }
   ],
   "source": [
    "print('This is my ten-character, two-decimal number:{r:10.2f}'.format(r=13.579))"
   ]
  },
  {
   "cell_type": "markdown",
   "id": "c6d8f48b",
   "metadata": {},
   "source": [
    "### Formatted String Literals (f-strings)"
   ]
  },
  {
   "cell_type": "code",
   "execution_count": 14,
   "id": "2ae68e95",
   "metadata": {},
   "outputs": [
    {
     "name": "stdout",
     "output_type": "stream",
     "text": [
      "He said his name is Shayan.\n"
     ]
    }
   ],
   "source": [
    "name = 'Shayan'\n",
    "\n",
    "print(f\"He said his name is {name}.\")"
   ]
  },
  {
   "cell_type": "code",
   "execution_count": 6,
   "id": "362cf949",
   "metadata": {},
   "outputs": [
    {
     "name": "stdout",
     "output_type": "stream",
     "text": [
      "My 10 character, four decimal number is:   23.4568\n"
     ]
    }
   ],
   "source": [
    "num = 23.45678\n",
    "print(\"My 10 character, four decimal number is:{0:10.4f}\".format(num))"
   ]
  },
  {
   "cell_type": "markdown",
   "id": "aa0878fa",
   "metadata": {},
   "source": [
    "### <font color='green'>Lists</font> "
   ]
  },
  {
   "cell_type": "code",
   "execution_count": 105,
   "id": "15cf70b4",
   "metadata": {},
   "outputs": [],
   "source": [
    "# Assign a list to an variable named my_list\n",
    "my_list = [1,2,3]"
   ]
  },
  {
   "cell_type": "code",
   "execution_count": 106,
   "id": "4ba213ce",
   "metadata": {},
   "outputs": [],
   "source": [
    "lst=['Apple',10,5.362,'A']"
   ]
  },
  {
   "cell_type": "code",
   "execution_count": 107,
   "id": "de484435",
   "metadata": {},
   "outputs": [
    {
     "data": {
      "text/plain": [
       "4"
      ]
     },
     "execution_count": 107,
     "metadata": {},
     "output_type": "execute_result"
    }
   ],
   "source": [
    "len(lst)"
   ]
  },
  {
   "cell_type": "markdown",
   "id": "029db560",
   "metadata": {},
   "source": [
    "### Indexing and Slicing"
   ]
  },
  {
   "cell_type": "code",
   "execution_count": 24,
   "id": "203d6e27",
   "metadata": {},
   "outputs": [],
   "source": [
    "my_list=['apple','orange','banana']"
   ]
  },
  {
   "cell_type": "code",
   "execution_count": 25,
   "id": "e33f4434",
   "metadata": {},
   "outputs": [
    {
     "data": {
      "text/plain": [
       "'apple'"
      ]
     },
     "execution_count": 25,
     "metadata": {},
     "output_type": "execute_result"
    }
   ],
   "source": [
    "my_list[0]"
   ]
  },
  {
   "cell_type": "code",
   "execution_count": 26,
   "id": "bbc1f791",
   "metadata": {},
   "outputs": [
    {
     "data": {
      "text/plain": [
       "['orange', 'banana']"
      ]
     },
     "execution_count": 26,
     "metadata": {},
     "output_type": "execute_result"
    }
   ],
   "source": [
    "my_list[1:]"
   ]
  },
  {
   "cell_type": "code",
   "execution_count": 27,
   "id": "84bbfd77",
   "metadata": {},
   "outputs": [
    {
     "data": {
      "text/plain": [
       "['banana', 'orange', 'apple']"
      ]
     },
     "execution_count": 27,
     "metadata": {},
     "output_type": "execute_result"
    }
   ],
   "source": [
    "my_list[::-1]"
   ]
  },
  {
   "cell_type": "code",
   "execution_count": 28,
   "id": "da2a9f88",
   "metadata": {},
   "outputs": [
    {
     "data": {
      "text/plain": [
       "['apple', 'orange']"
      ]
     },
     "execution_count": 28,
     "metadata": {},
     "output_type": "execute_result"
    }
   ],
   "source": [
    "my_list[:2]"
   ]
  },
  {
   "cell_type": "code",
   "execution_count": 29,
   "id": "04c849b7",
   "metadata": {},
   "outputs": [
    {
     "ename": "TypeError",
     "evalue": "can only concatenate list (not \"str\") to list",
     "output_type": "error",
     "traceback": [
      "\u001b[1;31m---------------------------------------------------------------------------\u001b[0m",
      "\u001b[1;31mTypeError\u001b[0m                                 Traceback (most recent call last)",
      "\u001b[1;32m<ipython-input-29-a41fd3e4e67f>\u001b[0m in \u001b[0;36m<module>\u001b[1;34m\u001b[0m\n\u001b[1;32m----> 1\u001b[1;33m \u001b[0mmy_list\u001b[0m\u001b[1;33m[\u001b[0m\u001b[1;36m1\u001b[0m\u001b[1;33m:\u001b[0m\u001b[1;33m]\u001b[0m\u001b[1;33m+\u001b[0m \u001b[0mmy_list\u001b[0m\u001b[1;33m[\u001b[0m\u001b[1;36m0\u001b[0m\u001b[1;33m]\u001b[0m\u001b[1;33m\u001b[0m\u001b[1;33m\u001b[0m\u001b[0m\n\u001b[0m",
      "\u001b[1;31mTypeError\u001b[0m: can only concatenate list (not \"str\") to list"
     ]
    }
   ],
   "source": [
    "my_list[1:]+ my_list[0]"
   ]
  },
  {
   "cell_type": "code",
   "execution_count": 30,
   "id": "e61e34eb",
   "metadata": {},
   "outputs": [
    {
     "data": {
      "text/plain": [
       "['orange', 'banana', 'apple']"
      ]
     },
     "execution_count": 30,
     "metadata": {},
     "output_type": "execute_result"
    }
   ],
   "source": [
    "my_list[1:]+ [my_list[0]]"
   ]
  },
  {
   "cell_type": "code",
   "execution_count": 31,
   "id": "064367b5",
   "metadata": {},
   "outputs": [
    {
     "data": {
      "text/plain": [
       "['apple', 'orange', 'banana', 'strawberry', 'cucumber']"
      ]
     },
     "execution_count": 31,
     "metadata": {},
     "output_type": "execute_result"
    }
   ],
   "source": [
    "another_list=['strawberry','cucumber']\n",
    "my_list+another_list"
   ]
  },
  {
   "cell_type": "code",
   "execution_count": 32,
   "id": "d9f42946",
   "metadata": {
    "scrolled": true
   },
   "outputs": [
    {
     "data": {
      "text/plain": [
       "['apple', 'orange', 'banana', 'apple', 'orange', 'banana']"
      ]
     },
     "execution_count": 32,
     "metadata": {},
     "output_type": "execute_result"
    }
   ],
   "source": [
    "my_list*2"
   ]
  },
  {
   "cell_type": "markdown",
   "id": "1000bb16",
   "metadata": {},
   "source": [
    "### Basic List Methods"
   ]
  },
  {
   "cell_type": "code",
   "execution_count": 33,
   "id": "be9cfe75",
   "metadata": {},
   "outputs": [],
   "source": [
    "my_list.append('blueberry')"
   ]
  },
  {
   "cell_type": "code",
   "execution_count": 34,
   "id": "2d7770c8",
   "metadata": {},
   "outputs": [
    {
     "data": {
      "text/plain": [
       "['apple', 'orange', 'banana', 'blueberry']"
      ]
     },
     "execution_count": 34,
     "metadata": {},
     "output_type": "execute_result"
    }
   ],
   "source": [
    "my_list"
   ]
  },
  {
   "cell_type": "code",
   "execution_count": 35,
   "id": "bf420bdc",
   "metadata": {},
   "outputs": [],
   "source": [
    "my_list=my_list.extend(another_list)"
   ]
  },
  {
   "cell_type": "code",
   "execution_count": 36,
   "id": "da0ba965",
   "metadata": {},
   "outputs": [],
   "source": [
    "my_list"
   ]
  },
  {
   "cell_type": "code",
   "execution_count": 37,
   "id": "07f3b008",
   "metadata": {},
   "outputs": [
    {
     "data": {
      "text/plain": [
       "NoneType"
      ]
     },
     "execution_count": 37,
     "metadata": {},
     "output_type": "execute_result"
    }
   ],
   "source": [
    "type(my_list)"
   ]
  },
  {
   "cell_type": "code",
   "execution_count": 38,
   "id": "dab3e289",
   "metadata": {},
   "outputs": [
    {
     "data": {
      "text/plain": [
       "['apple', 'orange', 'banana', 'strawberry', 'cucumber']"
      ]
     },
     "execution_count": 38,
     "metadata": {},
     "output_type": "execute_result"
    }
   ],
   "source": [
    "my_list=['apple','orange','banana']\n",
    "my_list.extend(another_list)\n",
    "my_list"
   ]
  },
  {
   "cell_type": "code",
   "execution_count": 39,
   "id": "13923bf0",
   "metadata": {},
   "outputs": [
    {
     "data": {
      "text/plain": [
       "'apple'"
      ]
     },
     "execution_count": 39,
     "metadata": {},
     "output_type": "execute_result"
    }
   ],
   "source": [
    "my_list.pop(0)"
   ]
  },
  {
   "cell_type": "code",
   "execution_count": 40,
   "id": "70e06e4d",
   "metadata": {},
   "outputs": [
    {
     "data": {
      "text/plain": [
       "['orange', 'banana', 'strawberry', 'cucumber']"
      ]
     },
     "execution_count": 40,
     "metadata": {},
     "output_type": "execute_result"
    }
   ],
   "source": [
    "my_list"
   ]
  },
  {
   "cell_type": "code",
   "execution_count": 154,
   "id": "5cf401a7",
   "metadata": {},
   "outputs": [],
   "source": [
    "my_list=my_list.pop(0)"
   ]
  },
  {
   "cell_type": "code",
   "execution_count": 155,
   "id": "e2d082fd",
   "metadata": {},
   "outputs": [
    {
     "data": {
      "text/plain": [
       "'orange'"
      ]
     },
     "execution_count": 155,
     "metadata": {},
     "output_type": "execute_result"
    }
   ],
   "source": [
    "my_list"
   ]
  },
  {
   "cell_type": "code",
   "execution_count": 157,
   "id": "ecaba46e",
   "metadata": {},
   "outputs": [],
   "source": [
    "my_list=['apple','orange','banana']\n",
    "my_list.reverse()"
   ]
  },
  {
   "cell_type": "code",
   "execution_count": 158,
   "id": "15561c14",
   "metadata": {},
   "outputs": [
    {
     "data": {
      "text/plain": [
       "['banana', 'orange', 'apple']"
      ]
     },
     "execution_count": 158,
     "metadata": {},
     "output_type": "execute_result"
    }
   ],
   "source": [
    "my_list"
   ]
  },
  {
   "cell_type": "code",
   "execution_count": 159,
   "id": "d6759017",
   "metadata": {},
   "outputs": [],
   "source": [
    "my_list.sort()"
   ]
  },
  {
   "cell_type": "code",
   "execution_count": 160,
   "id": "72257e14",
   "metadata": {},
   "outputs": [
    {
     "data": {
      "text/plain": [
       "['apple', 'banana', 'orange']"
      ]
     },
     "execution_count": 160,
     "metadata": {},
     "output_type": "execute_result"
    }
   ],
   "source": [
    "my_list"
   ]
  },
  {
   "cell_type": "markdown",
   "id": "08fbf330",
   "metadata": {},
   "source": [
    "### Nesting Lists"
   ]
  },
  {
   "cell_type": "code",
   "execution_count": 162,
   "id": "aaf86421",
   "metadata": {},
   "outputs": [],
   "source": [
    "# Let's make three lists\n",
    "lst1=[1,2,3]\n",
    "lst2=[4,5,6]\n",
    "lst3=[7,8,9]\n",
    "\n",
    "# Make a list of lists to form a matrix\n",
    "matrix = [lst1,lst2,lst3]"
   ]
  },
  {
   "cell_type": "code",
   "execution_count": 163,
   "id": "57d46e00",
   "metadata": {},
   "outputs": [
    {
     "data": {
      "text/plain": [
       "[[1, 2, 3], [4, 5, 6], [7, 8, 9]]"
      ]
     },
     "execution_count": 163,
     "metadata": {},
     "output_type": "execute_result"
    }
   ],
   "source": [
    "matrix"
   ]
  },
  {
   "cell_type": "code",
   "execution_count": 164,
   "id": "6eac7904",
   "metadata": {},
   "outputs": [
    {
     "data": {
      "text/plain": [
       "[1, 2, 3]"
      ]
     },
     "execution_count": 164,
     "metadata": {},
     "output_type": "execute_result"
    }
   ],
   "source": [
    "matrix[0]"
   ]
  },
  {
   "cell_type": "code",
   "execution_count": 165,
   "id": "b1727bb5",
   "metadata": {},
   "outputs": [
    {
     "data": {
      "text/plain": [
       "3"
      ]
     },
     "execution_count": 165,
     "metadata": {},
     "output_type": "execute_result"
    }
   ],
   "source": [
    "matrix[0][2]"
   ]
  },
  {
   "cell_type": "markdown",
   "id": "48f32c09",
   "metadata": {},
   "source": [
    "## <font color='green'>Dictionaries</font> "
   ]
  },
  {
   "cell_type": "code",
   "execution_count": 41,
   "id": "bb881281",
   "metadata": {},
   "outputs": [],
   "source": [
    "Grades_range={'Probability and Statistics':18 ,'electrical circuit':18.5,\"Electromagnetism\":17}"
   ]
  },
  {
   "cell_type": "code",
   "execution_count": 42,
   "id": "497ee524",
   "metadata": {},
   "outputs": [
    {
     "data": {
      "text/plain": [
       "dict_keys(['Probability and Statistics', 'electrical circuit', 'Electromagnetism'])"
      ]
     },
     "execution_count": 42,
     "metadata": {},
     "output_type": "execute_result"
    }
   ],
   "source": [
    "Grades_range.keys()"
   ]
  },
  {
   "cell_type": "code",
   "execution_count": 174,
   "id": "3d7fc9f3",
   "metadata": {},
   "outputs": [
    {
     "data": {
      "text/plain": [
       "dict_values([18, 18.5, 17])"
      ]
     },
     "execution_count": 174,
     "metadata": {},
     "output_type": "execute_result"
    }
   ],
   "source": [
    "Grades_range.values()"
   ]
  },
  {
   "cell_type": "code",
   "execution_count": 183,
   "id": "502ef492",
   "metadata": {},
   "outputs": [
    {
     "data": {
      "text/plain": [
       "dict_items([('Probability and Statistics', 18), ('electrical circuit', 18.5), ('Electromagnetism', 17)])"
      ]
     },
     "execution_count": 183,
     "metadata": {},
     "output_type": "execute_result"
    }
   ],
   "source": [
    "Grades_range.items()"
   ]
  },
  {
   "cell_type": "code",
   "execution_count": 175,
   "id": "8b663420",
   "metadata": {},
   "outputs": [
    {
     "data": {
      "text/plain": [
       "18"
      ]
     },
     "execution_count": 175,
     "metadata": {},
     "output_type": "execute_result"
    }
   ],
   "source": [
    "Grades_range['Probability and Statistics']"
   ]
  },
  {
   "cell_type": "code",
   "execution_count": 43,
   "id": "87df732b",
   "metadata": {},
   "outputs": [],
   "source": [
    "My_dict={'grades':Grades_range,\"List of teachers \":['Dr.rabiyi','Dr.Rashed','Dr. Yosefi'],'Term.no':3}"
   ]
  },
  {
   "cell_type": "markdown",
   "id": "aa5991ea",
   "metadata": {},
   "source": [
    "### Nesting with Dictionaries"
   ]
  },
  {
   "cell_type": "code",
   "execution_count": 45,
   "id": "aba41606",
   "metadata": {},
   "outputs": [
    {
     "data": {
      "text/plain": [
       "17"
      ]
     },
     "execution_count": 45,
     "metadata": {},
     "output_type": "execute_result"
    }
   ],
   "source": [
    "My_dict['grades'][\"Electromagnetism\"]"
   ]
  },
  {
   "cell_type": "code",
   "execution_count": 178,
   "id": "dccb7f88",
   "metadata": {},
   "outputs": [
    {
     "data": {
      "text/plain": [
       "['Dr.Rashed', 'Dr. Yosefi']"
      ]
     },
     "execution_count": 178,
     "metadata": {},
     "output_type": "execute_result"
    }
   ],
   "source": [
    "My_dict['List of teachers '][1:]"
   ]
  },
  {
   "cell_type": "code",
   "execution_count": 179,
   "id": "ede1e3f4",
   "metadata": {},
   "outputs": [
    {
     "data": {
      "text/plain": [
       "'DR.RABIYI'"
      ]
     },
     "execution_count": 179,
     "metadata": {},
     "output_type": "execute_result"
    }
   ],
   "source": [
    "My_dict['List of teachers '][0].upper()"
   ]
  },
  {
   "cell_type": "code",
   "execution_count": 180,
   "id": "c3d48ebc",
   "metadata": {},
   "outputs": [],
   "source": [
    "My_dict['Term.no']=7"
   ]
  },
  {
   "cell_type": "code",
   "execution_count": 181,
   "id": "c6521d15",
   "metadata": {},
   "outputs": [
    {
     "data": {
      "text/plain": [
       "{'grades': {'Probability and Statistics': 18,\n",
       "  'electrical circuit': 18.5,\n",
       "  'Electromagnetism': 17},\n",
       " 'List of teachers ': ['Dr.rabiyi', 'Dr.Rashed', 'Dr. Yosefi'],\n",
       " 'Term.no': 7}"
      ]
     },
     "execution_count": 181,
     "metadata": {},
     "output_type": "execute_result"
    }
   ],
   "source": [
    "My_dict"
   ]
  },
  {
   "cell_type": "markdown",
   "id": "8f4b888a",
   "metadata": {},
   "source": [
    "## <font color='green'>Tuples</font> "
   ]
  },
  {
   "cell_type": "code",
   "execution_count": 47,
   "id": "0c597dc6",
   "metadata": {},
   "outputs": [],
   "source": [
    "names=('ali','reza','mohammad')"
   ]
  },
  {
   "cell_type": "code",
   "execution_count": 48,
   "id": "e5ea4019",
   "metadata": {},
   "outputs": [
    {
     "data": {
      "text/plain": [
       "'ali'"
      ]
     },
     "execution_count": 48,
     "metadata": {},
     "output_type": "execute_result"
    }
   ],
   "source": [
    "names[0]"
   ]
  },
  {
   "cell_type": "code",
   "execution_count": 50,
   "id": "6b13c040",
   "metadata": {},
   "outputs": [
    {
     "data": {
      "text/plain": [
       "0"
      ]
     },
     "execution_count": 50,
     "metadata": {},
     "output_type": "execute_result"
    }
   ],
   "source": [
    "names[-1].index('m')"
   ]
  },
  {
   "cell_type": "code",
   "execution_count": 188,
   "id": "faf735bf",
   "metadata": {},
   "outputs": [
    {
     "data": {
      "text/plain": [
       "1"
      ]
     },
     "execution_count": 188,
     "metadata": {},
     "output_type": "execute_result"
    }
   ],
   "source": [
    "names.count('ali')"
   ]
  },
  {
   "cell_type": "code",
   "execution_count": 190,
   "id": "739866ec",
   "metadata": {},
   "outputs": [
    {
     "ename": "TypeError",
     "evalue": "'tuple' object does not support item assignment",
     "output_type": "error",
     "traceback": [
      "\u001b[1;31m---------------------------------------------------------------------------\u001b[0m",
      "\u001b[1;31mTypeError\u001b[0m                                 Traceback (most recent call last)",
      "\u001b[1;32m<ipython-input-190-985cea935f63>\u001b[0m in \u001b[0;36m<module>\u001b[1;34m\u001b[0m\n\u001b[0;32m      1\u001b[0m \u001b[1;31m#Here is the difference between list and tuples!\u001b[0m\u001b[1;33m\u001b[0m\u001b[1;33m\u001b[0m\u001b[1;33m\u001b[0m\u001b[0m\n\u001b[1;32m----> 2\u001b[1;33m \u001b[0mnames\u001b[0m\u001b[1;33m[\u001b[0m\u001b[1;36m0\u001b[0m\u001b[1;33m]\u001b[0m\u001b[1;33m=\u001b[0m\u001b[1;34m'Shayan'\u001b[0m\u001b[1;33m\u001b[0m\u001b[1;33m\u001b[0m\u001b[0m\n\u001b[0m",
      "\u001b[1;31mTypeError\u001b[0m: 'tuple' object does not support item assignment"
     ]
    }
   ],
   "source": [
    "#Here is the difference between list and tuples!\n",
    "names[0]='Shayan'"
   ]
  },
  {
   "cell_type": "code",
   "execution_count": 193,
   "id": "c24e3f9d",
   "metadata": {},
   "outputs": [
    {
     "ename": "AttributeError",
     "evalue": "'tuple' object has no attribute 'append'",
     "output_type": "error",
     "traceback": [
      "\u001b[1;31m---------------------------------------------------------------------------\u001b[0m",
      "\u001b[1;31mAttributeError\u001b[0m                            Traceback (most recent call last)",
      "\u001b[1;32m<ipython-input-193-5f9abc5b0a76>\u001b[0m in \u001b[0;36m<module>\u001b[1;34m\u001b[0m\n\u001b[0;32m      1\u001b[0m \u001b[1;31m#Tuples size can's change !\u001b[0m\u001b[1;33m\u001b[0m\u001b[1;33m\u001b[0m\u001b[1;33m\u001b[0m\u001b[0m\n\u001b[1;32m----> 2\u001b[1;33m \u001b[0mnames\u001b[0m\u001b[1;33m.\u001b[0m\u001b[0mappend\u001b[0m\u001b[1;33m(\u001b[0m\u001b[1;34m'Shayan'\u001b[0m\u001b[1;33m)\u001b[0m\u001b[1;33m\u001b[0m\u001b[1;33m\u001b[0m\u001b[0m\n\u001b[0m",
      "\u001b[1;31mAttributeError\u001b[0m: 'tuple' object has no attribute 'append'"
     ]
    }
   ],
   "source": [
    "#Tuples size can's change !\n",
    "names.append('Shayan')"
   ]
  },
  {
   "cell_type": "markdown",
   "id": "af1eee89",
   "metadata": {},
   "source": [
    "## <font color='green'>Booleans</font> "
   ]
  },
  {
   "cell_type": "code",
   "execution_count": 194,
   "id": "9df0bbf7",
   "metadata": {},
   "outputs": [],
   "source": [
    "a = True"
   ]
  },
  {
   "cell_type": "code",
   "execution_count": 195,
   "id": "f8cbebd3",
   "metadata": {},
   "outputs": [
    {
     "data": {
      "text/plain": [
       "True"
      ]
     },
     "execution_count": 195,
     "metadata": {},
     "output_type": "execute_result"
    }
   ],
   "source": [
    "a==a"
   ]
  },
  {
   "cell_type": "code",
   "execution_count": 196,
   "id": "98af8756",
   "metadata": {},
   "outputs": [
    {
     "data": {
      "text/plain": [
       "False"
      ]
     },
     "execution_count": 196,
     "metadata": {},
     "output_type": "execute_result"
    }
   ],
   "source": [
    "2>3"
   ]
  },
  {
   "cell_type": "code",
   "execution_count": 197,
   "id": "64cb9851",
   "metadata": {},
   "outputs": [],
   "source": [
    "b = None\n",
    "b"
   ]
  },
  {
   "cell_type": "code",
   "execution_count": 198,
   "id": "6bbac3f6",
   "metadata": {},
   "outputs": [
    {
     "data": {
      "text/plain": [
       "NoneType"
      ]
     },
     "execution_count": 198,
     "metadata": {},
     "output_type": "execute_result"
    }
   ],
   "source": [
    "type(b)"
   ]
  },
  {
   "cell_type": "markdown",
   "id": "74d60edc",
   "metadata": {},
   "source": [
    "## <font color='green'>Sets</font> "
   ]
  },
  {
   "cell_type": "code",
   "execution_count": 199,
   "id": "933b664d",
   "metadata": {},
   "outputs": [],
   "source": [
    "my_set=set()"
   ]
  },
  {
   "cell_type": "code",
   "execution_count": 200,
   "id": "c6c4a154",
   "metadata": {},
   "outputs": [],
   "source": [
    "my_set.add('ali')"
   ]
  },
  {
   "cell_type": "code",
   "execution_count": 201,
   "id": "45a03e9f",
   "metadata": {},
   "outputs": [
    {
     "data": {
      "text/plain": [
       "{'ali'}"
      ]
     },
     "execution_count": 201,
     "metadata": {},
     "output_type": "execute_result"
    }
   ],
   "source": [
    "my_set"
   ]
  },
  {
   "cell_type": "code",
   "execution_count": 202,
   "id": "c53cd301",
   "metadata": {},
   "outputs": [],
   "source": [
    "my_set.add(3)"
   ]
  },
  {
   "cell_type": "code",
   "execution_count": 203,
   "id": "4ced89e0",
   "metadata": {},
   "outputs": [
    {
     "data": {
      "text/plain": [
       "{3, 'ali'}"
      ]
     },
     "execution_count": 203,
     "metadata": {},
     "output_type": "execute_result"
    }
   ],
   "source": [
    "my_set"
   ]
  },
  {
   "cell_type": "code",
   "execution_count": 204,
   "id": "268676bb",
   "metadata": {},
   "outputs": [],
   "source": [
    "my_set.add('ali')"
   ]
  },
  {
   "cell_type": "code",
   "execution_count": 205,
   "id": "b7a52e69",
   "metadata": {},
   "outputs": [
    {
     "data": {
      "text/plain": [
       "{3, 'ali'}"
      ]
     },
     "execution_count": 205,
     "metadata": {},
     "output_type": "execute_result"
    }
   ],
   "source": [
    "my_set"
   ]
  },
  {
   "cell_type": "markdown",
   "id": "59eb010a",
   "metadata": {},
   "source": [
    "## <font color='green'>Comparison Operators</font> "
   ]
  },
  {
   "cell_type": "markdown",
   "id": "2879c24e",
   "metadata": {},
   "source": [
    "These operators will allow us to compare variables and output a Boolean value (True or False). \n",
    "\n",
    "If you have any sort of background in Math, these operators should be very straight forward.\n",
    "\n",
    "First we'll present a table of the comparison operators and then work through some examples:\n",
    "\n",
    "<h3> Table of Comparison Operators </h3><p>  In the table below, a=3 and b=4.</p>\n",
    "\n",
    "<table class=\"table table-bordered\">\n",
    "<tr>\n",
    "<th style=\"width:10%\">Operator</th><th style=\"width:45%\">Description</th><th>Example</th>\n",
    "</tr>\n",
    "<tr>\n",
    "<td>==</td>\n",
    "<td>If the values of two operands are equal, then the condition becomes true.</td>\n",
    "<td> (a == b) is not true.</td>\n",
    "</tr>\n",
    "<tr>\n",
    "<td>!=</td>\n",
    "<td>If values of two operands are not equal, then condition becomes true.</td>\n",
    "<td>(a != b) is true</td>\n",
    "</tr>\n",
    "<tr>\n",
    "<td>&gt;</td>\n",
    "<td>If the value of left operand is greater than the value of right operand, then condition becomes true.</td>\n",
    "<td> (a &gt; b) is not true.</td>\n",
    "</tr>\n",
    "<tr>\n",
    "<td>&lt;</td>\n",
    "<td>If the value of left operand is less than the value of right operand, then condition becomes true.</td>\n",
    "<td> (a &lt; b) is true.</td>\n",
    "</tr>\n",
    "<tr>\n",
    "<td>&gt;=</td>\n",
    "<td>If the value of left operand is greater than or equal to the value of right operand, then condition becomes true.</td>\n",
    "<td> (a &gt;= b) is not true. </td>\n",
    "</tr>\n",
    "<tr>\n",
    "<td>&lt;=</td>\n",
    "<td>If the value of left operand is less than or equal to the value of right operand, then condition becomes true.</td>\n",
    "<td> (a &lt;= b) is true. </td>\n",
    "</tr>\n",
    "</table>"
   ]
  },
  {
   "cell_type": "code",
   "execution_count": 8,
   "id": "9246d295",
   "metadata": {},
   "outputs": [
    {
     "data": {
      "text/plain": [
       "True"
      ]
     },
     "execution_count": 8,
     "metadata": {},
     "output_type": "execute_result"
    }
   ],
   "source": [
    "2<=2"
   ]
  },
  {
   "cell_type": "code",
   "execution_count": 9,
   "id": "edde9880",
   "metadata": {},
   "outputs": [
    {
     "data": {
      "text/plain": [
       "True"
      ]
     },
     "execution_count": 9,
     "metadata": {},
     "output_type": "execute_result"
    }
   ],
   "source": [
    "2!=3"
   ]
  },
  {
   "cell_type": "code",
   "execution_count": 10,
   "id": "aac01049",
   "metadata": {},
   "outputs": [
    {
     "data": {
      "text/plain": [
       "False"
      ]
     },
     "execution_count": 10,
     "metadata": {},
     "output_type": "execute_result"
    }
   ],
   "source": [
    "3==5"
   ]
  },
  {
   "cell_type": "code",
   "execution_count": 11,
   "id": "0c98ee8f",
   "metadata": {},
   "outputs": [
    {
     "data": {
      "text/plain": [
       "True"
      ]
     },
     "execution_count": 11,
     "metadata": {},
     "output_type": "execute_result"
    }
   ],
   "source": [
    "1<2<4"
   ]
  },
  {
   "cell_type": "code",
   "execution_count": 12,
   "id": "7136474d",
   "metadata": {},
   "outputs": [
    {
     "data": {
      "text/plain": [
       "True"
      ]
     },
     "execution_count": 12,
     "metadata": {},
     "output_type": "execute_result"
    }
   ],
   "source": [
    "1<2 and 2<4"
   ]
  },
  {
   "cell_type": "code",
   "execution_count": 13,
   "id": "a7b5b18a",
   "metadata": {},
   "outputs": [
    {
     "data": {
      "text/plain": [
       "False"
      ]
     },
     "execution_count": 13,
     "metadata": {},
     "output_type": "execute_result"
    }
   ],
   "source": [
    "1<3>4"
   ]
  },
  {
   "cell_type": "code",
   "execution_count": 14,
   "id": "03830851",
   "metadata": {},
   "outputs": [
    {
     "data": {
      "text/plain": [
       "False"
      ]
     },
     "execution_count": 14,
     "metadata": {},
     "output_type": "execute_result"
    }
   ],
   "source": [
    "1<3 and 3>4"
   ]
  },
  {
   "cell_type": "code",
   "execution_count": 15,
   "id": "238381b5",
   "metadata": {},
   "outputs": [
    {
     "data": {
      "text/plain": [
       "True"
      ]
     },
     "execution_count": 15,
     "metadata": {},
     "output_type": "execute_result"
    }
   ],
   "source": [
    "5<6 or 8>10"
   ]
  },
  {
   "cell_type": "markdown",
   "id": "359cd674",
   "metadata": {},
   "source": [
    "## <font color='green'>if, elif, else Statements</font> \n",
    "<code>if</code> Statements in Python allows us to tell the code to perform alternative actions based on a certain set of results."
   ]
  },
  {
   "cell_type": "code",
   "execution_count": 52,
   "id": "2d71b81f",
   "metadata": {},
   "outputs": [
    {
     "name": "stdout",
     "output_type": "stream",
     "text": [
      "It's True !\n"
     ]
    }
   ],
   "source": [
    "if True:\n",
    "    print(\"It's True !\")"
   ]
  },
  {
   "cell_type": "code",
   "execution_count": 18,
   "id": "4dd090c3",
   "metadata": {},
   "outputs": [
    {
     "name": "stdout",
     "output_type": "stream",
     "text": [
      "Even!\n"
     ]
    }
   ],
   "source": [
    "x=2\n",
    "if x==x:\n",
    "    print(\"Even!\")\n",
    "else:\n",
    "    print(\"Uneven!\")"
   ]
  },
  {
   "cell_type": "markdown",
   "id": "9c5b4de3",
   "metadata": {},
   "source": [
    "### Multiple Branches"
   ]
  },
  {
   "cell_type": "code",
   "execution_count": 53,
   "id": "946e56ff",
   "metadata": {},
   "outputs": [
    {
     "name": "stdout",
     "output_type": "stream",
     "text": [
      "Ow !,nice to meet you mamad.\n"
     ]
    }
   ],
   "source": [
    "name = 'mamad'\n",
    "if name=='shayan':\n",
    "    print('how you doing shayan !')\n",
    "elif name=='maryam':\n",
    "    print('How you doing maryam !')\n",
    "else :\n",
    "    print('Ow !,nice to meet you %s.'%(name))\n",
    "    #print('Ow !,nice to meet you {}'.format(name))"
   ]
  },
  {
   "cell_type": "markdown",
   "id": "ba10e6a2",
   "metadata": {},
   "source": [
    "## <font color='green'>for Loops</font> \n",
    "A <code>for</code> loop acts as an iterator in Python; it goes through items that are in a *sequence* or **any other iterable** item. \n"
   ]
  },
  {
   "cell_type": "code",
   "execution_count": 54,
   "id": "13463723",
   "metadata": {},
   "outputs": [
    {
     "name": "stdout",
     "output_type": "stream",
     "text": [
      "1\n",
      "2\n",
      "3\n",
      "4\n",
      "5\n",
      "6\n",
      "7\n",
      "8\n"
     ]
    }
   ],
   "source": [
    "lst=[1,2,3,4,5,6,7,8]\n",
    "for item in lst:\n",
    "    print(item)"
   ]
  },
  {
   "cell_type": "code",
   "execution_count": 56,
   "id": "d42d2d4c",
   "metadata": {},
   "outputs": [],
   "source": [
    "mylist=[1,2,'ali',4,5,'shayan']"
   ]
  },
  {
   "cell_type": "code",
   "execution_count": 57,
   "id": "e61241c7",
   "metadata": {},
   "outputs": [
    {
     "name": "stdout",
     "output_type": "stream",
     "text": [
      "['ali', 'shayan']\n"
     ]
    }
   ],
   "source": [
    "newlist=[]\n",
    "for elements in mylist:\n",
    "    if type(elements)==str :\n",
    "        newlist.append(elements)\n",
    "        \n",
    "print(newlist)"
   ]
  },
  {
   "cell_type": "code",
   "execution_count": 34,
   "id": "52867121",
   "metadata": {},
   "outputs": [
    {
     "name": "stdout",
     "output_type": "stream",
     "text": [
      "Odd number\n",
      "2\n",
      "Odd number\n",
      "4\n",
      "Odd number\n",
      "6\n",
      "Odd number\n",
      "8\n"
     ]
    }
   ],
   "source": [
    "for num in lst:\n",
    "    if num % 2 == 0:\n",
    "        print(num)\n",
    "    else:\n",
    "        print('Odd number')"
   ]
  },
  {
   "cell_type": "code",
   "execution_count": 35,
   "id": "b51af8aa",
   "metadata": {},
   "outputs": [
    {
     "name": "stdout",
     "output_type": "stream",
     "text": [
      "36\n"
     ]
    }
   ],
   "source": [
    "#sums up the list\n",
    "lst_sum = 0 \n",
    "for num in lst:\n",
    "    lst_sum += num\n",
    "\n",
    "print(lst_sum)"
   ]
  },
  {
   "cell_type": "code",
   "execution_count": 36,
   "id": "5dfed6ab",
   "metadata": {},
   "outputs": [
    {
     "name": "stdout",
     "output_type": "stream",
     "text": [
      "1\n",
      "4\n",
      "7\n"
     ]
    }
   ],
   "source": [
    "mylist=[(1,2,3),(4,5,6),(7,8,9)]\n",
    "for a,b,c in mylist :\n",
    "    print(a)"
   ]
  },
  {
   "cell_type": "code",
   "execution_count": 39,
   "id": "af3d47fb",
   "metadata": {},
   "outputs": [
    {
     "name": "stdout",
     "output_type": "stream",
     "text": [
      "('first', 1)\n",
      "('second', 2)\n",
      "('third', 3)\n"
     ]
    }
   ],
   "source": [
    "mydict={'first':1,'second':2,'third':3}\n",
    "for item in mydict.items():\n",
    "    print(item)"
   ]
  },
  {
   "cell_type": "code",
   "execution_count": 40,
   "id": "dcf85406",
   "metadata": {},
   "outputs": [
    {
     "name": "stdout",
     "output_type": "stream",
     "text": [
      "1\n",
      "2\n",
      "3\n"
     ]
    }
   ],
   "source": [
    "for key,value in mydict.items():\n",
    "    print(value)"
   ]
  },
  {
   "cell_type": "markdown",
   "id": "47a15688",
   "metadata": {},
   "source": [
    "## <font color='green'>while Loops</font> \n",
    "A <code>while</code> statement will repeatedly execute a single statement or group of statements as long as the condition is **true**.\\\n",
    "The general format of a while loop is:\n",
    "\n",
    "    while test:\n",
    "        code statements\n",
    "    else:\n",
    "        final code statements"
   ]
  },
  {
   "cell_type": "code",
   "execution_count": 45,
   "id": "8e18242f",
   "metadata": {},
   "outputs": [
    {
     "name": "stdout",
     "output_type": "stream",
     "text": [
      "x is currently:  0\n",
      " x is still less than 10, adding 1 to x\n",
      "x is currently:  1\n",
      " x is still less than 10, adding 1 to x\n",
      "x is currently:  2\n",
      " x is still less than 10, adding 1 to x\n",
      "x is currently:  3\n",
      " x is still less than 10, adding 1 to x\n",
      "x is currently:  4\n",
      " x is still less than 10, adding 1 to x\n",
      "x is currently:  5\n",
      " x is still less than 10, adding 1 to x\n",
      "x is currently:  6\n",
      " x is still less than 10, adding 1 to x\n",
      "x is currently:  7\n",
      " x is still less than 10, adding 1 to x\n",
      "x is currently:  8\n",
      " x is still less than 10, adding 1 to x\n",
      "x is currently:  9\n",
      " x is still less than 10, adding 1 to x\n",
      "Done!\n"
     ]
    }
   ],
   "source": [
    "x = 0\n",
    "\n",
    "while x < 10:\n",
    "    print('x is currently: ',x)\n",
    "    print(' x is still less than 10, adding 1 to x')\n",
    "    x+=1\n",
    "else:\n",
    "    print('Done!')"
   ]
  },
  {
   "cell_type": "markdown",
   "id": "86cb5578",
   "metadata": {},
   "source": [
    "### break, continue, pass"
   ]
  },
  {
   "cell_type": "markdown",
   "id": "d1782c1f",
   "metadata": {},
   "source": [
    "We can use <code>break</code>, <code>continue</code>, and <code>pass</code> statements in our loops to add additional functionality for various cases. The three statements are defined by:\n",
    "\n",
    "    break: Breaks out of the current closest enclosing loop.\n",
    "    continue: Goes to the top of the closest enclosing loop.\n",
    "    pass: Does nothing at all.\n",
    "    \n",
    "    \n",
    "Thinking about <code>break</code> and <code>continue</code> statements, the general format of the <code>while</code> loop looks like this:\n",
    "\n",
    "    while test: \n",
    "        code statement\n",
    "        if test: \n",
    "            break\n",
    "        if test: \n",
    "            continue \n",
    "    else:\n",
    "\n",
    "<code>break</code> and <code>continue</code> statements can appear anywhere inside the loop’s body, but we will usually put them further nested in conjunction with an <code>if</code> statement to perform an action based on some condition."
   ]
  },
  {
   "cell_type": "code",
   "execution_count": 60,
   "id": "cea55c30",
   "metadata": {},
   "outputs": [],
   "source": [
    "lst=[1,2,3,4,5,6,7,8]\n",
    "new_lst=[]\n",
    "for item in lst:\n",
    "    if item%3==0:\n",
    "        new_lst.append(item)\n",
    "    else:\n",
    "        continue #By default\n",
    "        "
   ]
  },
  {
   "cell_type": "code",
   "execution_count": 50,
   "id": "8a9fcd60",
   "metadata": {},
   "outputs": [],
   "source": [
    "if 4%2==1:\n",
    "    print(\"uneven !\")\n",
    "else:\n",
    "    pass"
   ]
  },
  {
   "cell_type": "code",
   "execution_count": 51,
   "id": "d42bd636",
   "metadata": {},
   "outputs": [
    {
     "ename": "SyntaxError",
     "evalue": "'continue' not properly in loop (<ipython-input-51-12f351a282f9>, line 4)",
     "output_type": "error",
     "traceback": [
      "\u001b[1;36m  File \u001b[1;32m\"<ipython-input-51-12f351a282f9>\"\u001b[1;36m, line \u001b[1;32m4\u001b[0m\n\u001b[1;33m    continue\u001b[0m\n\u001b[1;37m    ^\u001b[0m\n\u001b[1;31mSyntaxError\u001b[0m\u001b[1;31m:\u001b[0m 'continue' not properly in loop\n"
     ]
    }
   ],
   "source": [
    "if 4%2==1:\n",
    "    print(\"uneven !\")\n",
    "else:\n",
    "    continue"
   ]
  },
  {
   "cell_type": "code",
   "execution_count": 52,
   "id": "00de3725",
   "metadata": {},
   "outputs": [
    {
     "name": "stdout",
     "output_type": "stream",
     "text": [
      "x is currently:  0\n",
      " x is still less than 10, adding 1 to x\n",
      "continuing...\n",
      "x is currently:  1\n",
      " x is still less than 10, adding 1 to x\n",
      "continuing...\n",
      "x is currently:  2\n",
      " x is still less than 10, adding 1 to x\n",
      "Breaking because x==3\n"
     ]
    }
   ],
   "source": [
    "x = 0\n",
    "\n",
    "while x < 10:\n",
    "    print('x is currently: ',x)\n",
    "    print(' x is still less than 10, adding 1 to x')\n",
    "    x+=1\n",
    "    if x==3:\n",
    "        print('Breaking because x==3')\n",
    "        break\n",
    "    else:\n",
    "        print('continuing...')\n",
    "        continue"
   ]
  },
  {
   "cell_type": "code",
   "execution_count": 53,
   "id": "e1657bc2",
   "metadata": {},
   "outputs": [],
   "source": [
    "# DO NOT RUN THIS CODE!!!! \n",
    "# while True:\n",
    "#     print(\"I'm stuck in an infinite loop!\")"
   ]
  },
  {
   "cell_type": "markdown",
   "id": "554ec9ef",
   "metadata": {},
   "source": [
    "## <font color='green'>Useful Operators</font> \n"
   ]
  },
  {
   "cell_type": "markdown",
   "id": "fce5f87e",
   "metadata": {},
   "source": [
    "### Range\n",
    "Note that range itself, is a generator function, so to actually get a list out of it, we need to cast it to a list with list()."
   ]
  },
  {
   "cell_type": "code",
   "execution_count": 54,
   "id": "9958fe90",
   "metadata": {},
   "outputs": [
    {
     "data": {
      "text/plain": [
       "range(0, 10)"
      ]
     },
     "execution_count": 54,
     "metadata": {},
     "output_type": "execute_result"
    }
   ],
   "source": [
    "range(0,10)"
   ]
  },
  {
   "cell_type": "code",
   "execution_count": 55,
   "id": "7162bd2c",
   "metadata": {},
   "outputs": [
    {
     "data": {
      "text/plain": [
       "[0, 1, 2, 3, 4, 5, 6, 7, 8, 9]"
      ]
     },
     "execution_count": 55,
     "metadata": {},
     "output_type": "execute_result"
    }
   ],
   "source": [
    "list(range(0,10))"
   ]
  },
  {
   "cell_type": "code",
   "execution_count": 56,
   "id": "5790e089",
   "metadata": {},
   "outputs": [
    {
     "data": {
      "text/plain": [
       "[0, 2, 4, 6, 8]"
      ]
     },
     "execution_count": 56,
     "metadata": {},
     "output_type": "execute_result"
    }
   ],
   "source": [
    "list(range(0,10,2))"
   ]
  },
  {
   "cell_type": "markdown",
   "id": "1fac9a81",
   "metadata": {},
   "source": [
    "### enumerate"
   ]
  },
  {
   "cell_type": "code",
   "execution_count": 62,
   "id": "c326155e",
   "metadata": {},
   "outputs": [
    {
     "name": "stdout",
     "output_type": "stream",
     "text": [
      "0\n",
      "(1, 2)\n",
      "1\n",
      "(3, 4)\n",
      "2\n",
      "(5, 6)\n"
     ]
    }
   ],
   "source": [
    "mylist=[(1,2),(3,4),(5,6)]\n",
    "for i, item in enumerate(mylist):\n",
    "    print(i)\n",
    "    print(item)"
   ]
  },
  {
   "cell_type": "code",
   "execution_count": 58,
   "id": "0d058e5a",
   "metadata": {},
   "outputs": [
    {
     "name": "stdout",
     "output_type": "stream",
     "text": [
      "the letter S is at index 0\n",
      "the letter h is at index 1\n",
      "the letter a is at index 2\n",
      "the letter y is at index 3\n",
      "the letter a is at index 4\n",
      "the letter n is at index 5\n"
     ]
    }
   ],
   "source": [
    "for i,letter in enumerate('Shayan'):\n",
    "    print(\"the letter {} is at index {}\".format(letter,i))"
   ]
  },
  {
   "cell_type": "markdown",
   "id": "ca2b8528",
   "metadata": {},
   "source": [
    "### zip"
   ]
  },
  {
   "cell_type": "code",
   "execution_count": 59,
   "id": "bc469e45",
   "metadata": {},
   "outputs": [],
   "source": [
    "mylist1=[0,1,2,3,4,5]\n",
    "mylist2=['S','h','a','y','a','n']"
   ]
  },
  {
   "cell_type": "code",
   "execution_count": 60,
   "id": "147cf320",
   "metadata": {},
   "outputs": [
    {
     "data": {
      "text/plain": [
       "[(0, 'S'), (1, 'h'), (2, 'a'), (3, 'y'), (4, 'a'), (5, 'n')]"
      ]
     },
     "execution_count": 60,
     "metadata": {},
     "output_type": "execute_result"
    }
   ],
   "source": [
    "list(zip(mylist1,mylist2))"
   ]
  },
  {
   "cell_type": "code",
   "execution_count": 62,
   "id": "73ecc5b9",
   "metadata": {},
   "outputs": [
    {
     "name": "stdout",
     "output_type": "stream",
     "text": [
      "('shayan', '20', 'Iran')\n",
      "('james', '22', 'United states')\n",
      "('jacky', '30', ' Japon')\n"
     ]
    }
   ],
   "source": [
    "name_list=['shayan','james','jacky']\n",
    "age_list=['20','22','30']\n",
    "country_list=['Iran','United states', ' Japon']\n",
    "for items in zip(name_list,age_list,country_list):\n",
    "    print(items)"
   ]
  },
  {
   "cell_type": "markdown",
   "id": "2b0b5883",
   "metadata": {},
   "source": [
    "### in & not in operators"
   ]
  },
  {
   "cell_type": "code",
   "execution_count": 63,
   "id": "71b5a96c",
   "metadata": {},
   "outputs": [
    {
     "data": {
      "text/plain": [
       "True"
      ]
     },
     "execution_count": 63,
     "metadata": {},
     "output_type": "execute_result"
    }
   ],
   "source": [
    "'shayan' in \"Hello there !,I'm shayan\""
   ]
  },
  {
   "cell_type": "code",
   "execution_count": 64,
   "id": "23c31099",
   "metadata": {},
   "outputs": [
    {
     "data": {
      "text/plain": [
       "False"
      ]
     },
     "execution_count": 64,
     "metadata": {},
     "output_type": "execute_result"
    }
   ],
   "source": [
    "'shayan' in [\"Hello there !, I'm shayan.\"]"
   ]
  },
  {
   "cell_type": "code",
   "execution_count": 65,
   "id": "d3a4aef2",
   "metadata": {},
   "outputs": [
    {
     "data": {
      "text/plain": [
       "True"
      ]
     },
     "execution_count": 65,
     "metadata": {},
     "output_type": "execute_result"
    }
   ],
   "source": [
    "'shayan' in ['shayan','reza','ali']"
   ]
  },
  {
   "cell_type": "code",
   "execution_count": 69,
   "id": "2a9c7483",
   "metadata": {},
   "outputs": [
    {
     "data": {
      "text/plain": [
       "True"
      ]
     },
     "execution_count": 69,
     "metadata": {},
     "output_type": "execute_result"
    }
   ],
   "source": [
    "'a' not in [1,2,3]"
   ]
  },
  {
   "cell_type": "markdown",
   "id": "54146f4f",
   "metadata": {},
   "source": [
    "### min and max"
   ]
  },
  {
   "cell_type": "code",
   "execution_count": 71,
   "id": "863cfd6c",
   "metadata": {},
   "outputs": [],
   "source": [
    "mylist = [10,20,30,40,80]"
   ]
  },
  {
   "cell_type": "code",
   "execution_count": 73,
   "id": "d9843d9e",
   "metadata": {},
   "outputs": [
    {
     "data": {
      "text/plain": [
       "80"
      ]
     },
     "execution_count": 73,
     "metadata": {},
     "output_type": "execute_result"
    }
   ],
   "source": [
    "max(mylist)"
   ]
  },
  {
   "cell_type": "code",
   "execution_count": 74,
   "id": "b428f2a6",
   "metadata": {},
   "outputs": [
    {
     "data": {
      "text/plain": [
       "10"
      ]
     },
     "execution_count": 74,
     "metadata": {},
     "output_type": "execute_result"
    }
   ],
   "source": [
    "min(mylist)"
   ]
  },
  {
   "cell_type": "markdown",
   "id": "c01d54c8",
   "metadata": {},
   "source": [
    "### random"
   ]
  },
  {
   "cell_type": "code",
   "execution_count": 75,
   "id": "228b6294",
   "metadata": {},
   "outputs": [],
   "source": [
    "from random import shuffle\n",
    "mylist=[1,2,3,4,5,6,7,8,9,10]\n",
    "shuffle(mylist)"
   ]
  },
  {
   "cell_type": "code",
   "execution_count": 76,
   "id": "3c599811",
   "metadata": {},
   "outputs": [
    {
     "data": {
      "text/plain": [
       "[6, 1, 3, 2, 4, 10, 8, 9, 7, 5]"
      ]
     },
     "execution_count": 76,
     "metadata": {},
     "output_type": "execute_result"
    }
   ],
   "source": [
    "mylist"
   ]
  },
  {
   "cell_type": "code",
   "execution_count": 77,
   "id": "1c060225",
   "metadata": {},
   "outputs": [
    {
     "data": {
      "text/plain": [
       "25"
      ]
     },
     "execution_count": 77,
     "metadata": {},
     "output_type": "execute_result"
    }
   ],
   "source": [
    "from random import randint\n",
    "randint(0,40)"
   ]
  },
  {
   "cell_type": "markdown",
   "id": "41fa2188",
   "metadata": {},
   "source": [
    "## <font color='green'>list comprehension</font> "
   ]
  },
  {
   "cell_type": "code",
   "execution_count": 79,
   "id": "e8157219",
   "metadata": {},
   "outputs": [
    {
     "name": "stdout",
     "output_type": "stream",
     "text": [
      "[2, 4, 6]\n",
      "[2, 4, 6]\n"
     ]
    }
   ],
   "source": [
    "lst=[1,2,3,4,5,6]\n",
    "#extract the items Divisible by two \n",
    "print([item for item in lst if item%2==0])\n",
    "print(lst[1::2])"
   ]
  },
  {
   "cell_type": "code",
   "execution_count": 82,
   "id": "b2043bfd",
   "metadata": {},
   "outputs": [
    {
     "data": {
      "text/plain": [
       "[2, 4, 6]"
      ]
     },
     "execution_count": 82,
     "metadata": {},
     "output_type": "execute_result"
    }
   ],
   "source": [
    "mylst=[]\n",
    "for item in lst:\n",
    "    if item%2 ==0:\n",
    "        mylst.append(item)\n",
    "mylst"
   ]
  },
  {
   "cell_type": "markdown",
   "id": "3a9cc171",
   "metadata": {},
   "source": [
    "## <font color='green'>functions</font> \n",
    "### Why even use functions?\n",
    "Put simply, you should use functions when you plan on using a block of code multiple times. The function will allow you to call the same block of code without having to write it multiple times. "
   ]
  },
  {
   "cell_type": "code",
   "execution_count": 63,
   "id": "e76468a2",
   "metadata": {},
   "outputs": [],
   "source": [
    "def name_of_function(arg1,arg2):\n",
    "    '''\n",
    "    This is where the function's Document String (docstring) goes.\n",
    "    When you call help() on your function it will be printed out.\n",
    "    '''\n",
    "    # Do stuff here\n",
    "    # Return desired result"
   ]
  },
  {
   "cell_type": "code",
   "execution_count": 65,
   "id": "2f91c647",
   "metadata": {},
   "outputs": [
    {
     "name": "stdout",
     "output_type": "stream",
     "text": [
      "Help on function name_of_function in module __main__:\n",
      "\n",
      "name_of_function(arg1, arg2)\n",
      "    This is where the function's Document String (docstring) goes.\n",
      "    When you call help() on your function it will be printed out.\n",
      "\n"
     ]
    }
   ],
   "source": [
    "help(name_of_function)"
   ]
  },
  {
   "cell_type": "code",
   "execution_count": 91,
   "id": "7495d02c",
   "metadata": {},
   "outputs": [],
   "source": [
    "def print_my_name(name):\n",
    "    print(f'How you doing {name} ?')"
   ]
  },
  {
   "cell_type": "code",
   "execution_count": 92,
   "id": "02faab29",
   "metadata": {},
   "outputs": [
    {
     "name": "stdout",
     "output_type": "stream",
     "text": [
      "How you doing Shayan ?\n"
     ]
    }
   ],
   "source": [
    "print_my_name('Shayan')"
   ]
  },
  {
   "cell_type": "markdown",
   "id": "73935c76",
   "metadata": {},
   "source": [
    "### Print or Return ? "
   ]
  },
  {
   "cell_type": "code",
   "execution_count": 94,
   "id": "686a0a4e",
   "metadata": {},
   "outputs": [
    {
     "name": "stdout",
     "output_type": "stream",
     "text": [
      "How you doing Shayan ?\n"
     ]
    }
   ],
   "source": [
    "result=print_my_name('Shayan')"
   ]
  },
  {
   "cell_type": "code",
   "execution_count": 95,
   "id": "368d253e",
   "metadata": {},
   "outputs": [
    {
     "data": {
      "text/plain": [
       "NoneType"
      ]
     },
     "execution_count": 95,
     "metadata": {},
     "output_type": "execute_result"
    }
   ],
   "source": [
    "type(result)"
   ]
  },
  {
   "cell_type": "code",
   "execution_count": 66,
   "id": "4e8c879b",
   "metadata": {},
   "outputs": [],
   "source": [
    "def print_my_name(name):\n",
    "    print(\"Here we go !\")\n",
    "    return f'How you doing {name} ?'"
   ]
  },
  {
   "cell_type": "code",
   "execution_count": 67,
   "id": "61afd672",
   "metadata": {},
   "outputs": [
    {
     "name": "stdout",
     "output_type": "stream",
     "text": [
      "Here we go !\n"
     ]
    }
   ],
   "source": [
    "result=print_my_name('Shayan')"
   ]
  },
  {
   "cell_type": "code",
   "execution_count": 99,
   "id": "3964b4b7",
   "metadata": {},
   "outputs": [
    {
     "data": {
      "text/plain": [
       "'How you doing Shayan ?'"
      ]
     },
     "execution_count": 99,
     "metadata": {},
     "output_type": "execute_result"
    }
   ],
   "source": [
    "result"
   ]
  },
  {
   "cell_type": "code",
   "execution_count": 102,
   "id": "1e64dafa",
   "metadata": {},
   "outputs": [],
   "source": [
    "def chek_even_list(mylist):\n",
    "    return [ item%2==0 for item in mylist ]"
   ]
  },
  {
   "cell_type": "code",
   "execution_count": 103,
   "id": "7fba7bb2",
   "metadata": {},
   "outputs": [
    {
     "data": {
      "text/plain": [
       "[False, False, True, True]"
      ]
     },
     "execution_count": 103,
     "metadata": {},
     "output_type": "execute_result"
    }
   ],
   "source": [
    "chek_even_list([1,5,8,10])"
   ]
  },
  {
   "cell_type": "markdown",
   "id": "0a3b2a36",
   "metadata": {},
   "source": [
    "## <font color='green'>lambda expressions</font> \n",
    " **lambda expressions** allow us to create \"anonymous\" functions. This basically means we can quickly make ad-hoc functions without needing to properly define a function using def."
   ]
  },
  {
   "cell_type": "code",
   "execution_count": 104,
   "id": "f9892901",
   "metadata": {},
   "outputs": [],
   "source": [
    "square = lambda num: num **2"
   ]
  },
  {
   "cell_type": "code",
   "execution_count": 105,
   "id": "498dee8e",
   "metadata": {},
   "outputs": [
    {
     "data": {
      "text/plain": [
       "9"
      ]
     },
     "execution_count": 105,
     "metadata": {},
     "output_type": "execute_result"
    }
   ],
   "source": [
    "square(3)"
   ]
  },
  {
   "cell_type": "markdown",
   "id": "298104c6",
   "metadata": {},
   "source": [
    "## <font color='green'>map and filter</font> "
   ]
  },
  {
   "cell_type": "markdown",
   "id": "27cb3553",
   "metadata": {},
   "source": [
    "### map function\n",
    "The **map function** allows you to \"map\" a function to an **iterable** object. That is to say you can quickly call the same function to every item in an iterable, such as a list."
   ]
  },
  {
   "cell_type": "code",
   "execution_count": 69,
   "id": "73737984",
   "metadata": {},
   "outputs": [],
   "source": [
    "def sqr(num):\n",
    "    return num**2"
   ]
  },
  {
   "cell_type": "code",
   "execution_count": 71,
   "id": "2de5623d",
   "metadata": {},
   "outputs": [
    {
     "data": {
      "text/plain": [
       "[1, 9, 25, 49, 81]"
      ]
     },
     "execution_count": 71,
     "metadata": {},
     "output_type": "execute_result"
    }
   ],
   "source": [
    "list(map(sqr,[1,3,5,7,9]))"
   ]
  },
  {
   "cell_type": "markdown",
   "id": "1fc10201",
   "metadata": {},
   "source": [
    "### filter function\n",
    "The **filter function** returns an iterator yielding those items of iterable for which function(item) is **true**. Meaning you need to filter by a function that **returns either True or False**."
   ]
  },
  {
   "cell_type": "code",
   "execution_count": 108,
   "id": "8a5b61db",
   "metadata": {},
   "outputs": [],
   "source": [
    "def If_square(num):\n",
    "    return  int(num**0.5)==num**0.5"
   ]
  },
  {
   "cell_type": "code",
   "execution_count": 109,
   "id": "43a46867",
   "metadata": {},
   "outputs": [
    {
     "data": {
      "text/plain": [
       "[4, 16, 25]"
      ]
     },
     "execution_count": 109,
     "metadata": {},
     "output_type": "execute_result"
    }
   ],
   "source": [
    "list(filter(If_square,[2,4,10,16,25]))"
   ]
  },
  {
   "cell_type": "markdown",
   "id": "8462f7f0",
   "metadata": {},
   "source": [
    "### That's all for now. Hope you have enjoyed so far ! "
   ]
  }
 ],
 "metadata": {
  "kernelspec": {
   "display_name": "Python 3",
   "language": "python",
   "name": "python3"
  },
  "language_info": {
   "codemirror_mode": {
    "name": "ipython",
    "version": 3
   },
   "file_extension": ".py",
   "mimetype": "text/x-python",
   "name": "python",
   "nbconvert_exporter": "python",
   "pygments_lexer": "ipython3",
   "version": "3.8.8"
  }
 },
 "nbformat": 4,
 "nbformat_minor": 5
}
