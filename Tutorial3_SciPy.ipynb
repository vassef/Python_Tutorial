{
  "cells": [
    {
      "cell_type": "markdown",
      "id": "d7a76d67",
      "metadata": {
        "id": "d7a76d67"
      },
      "source": [
        "# Probability and Statistics Fall 1400\n",
        "## Python Tutorial - Part3_SciPy\n",
        "\n",
        "* Prepared by : Shayan Vassef\n",
        "* Email : sh.vassef@ut.ac.ir\n",
        "\n",
        "![Python](https://drive.google.com/uc?export=view&id=1Rhyh-TU_iUGeCvIHDrOjFZDLdMgAP5DZ)"
      ]
    },
    {
      "cell_type": "markdown",
      "id": "e13ef0bf",
      "metadata": {
        "id": "e13ef0bf"
      },
      "source": [
        "# Let's get started !"
      ]
    },
    {
      "cell_type": "markdown",
      "id": "62811974",
      "metadata": {
        "id": "62811974"
      },
      "source": [
        "\n",
        "**This notebook will just go through the following topics in order:**\n",
        "\n",
        "* SciPy\n",
        "    * Binomial Distribution\n",
        "      * cdf\n",
        "      * pmf\n",
        "      * sf\n",
        "      * mean\n",
        "      * var\n",
        "      * std \n",
        "    * Poisson Distribution\n",
        "      * cdf\n",
        "      * pmf\n",
        "      * sf\n",
        "      * mean\n",
        "      * var\n",
        "      * std \n",
        "    * Normal Distribution\n",
        "      * cdf\n",
        "      * pdf\n",
        "      * sf\n",
        "      * mean\n",
        "      * var\n",
        "      * std \n",
        "\n",
        "\n"
      ]
    },
    {
      "cell_type": "markdown",
      "id": "7d8f509a",
      "metadata": {
        "id": "7d8f509a"
      },
      "source": [
        "# Introducing scipy\n",
        "This module contains a large number of probability distributions as well as a growing library of statistical functions."
      ]
    },
    {
      "cell_type": "markdown",
      "id": "7378f062",
      "metadata": {
        "id": "7378f062"
      },
      "source": [
        "* Python SciPy has modules for the following tasks:\n",
        "  * Optimization\n",
        "  * Linear algebra\n",
        "  * Integration\n",
        "  * Interpolation\n",
        "  * Special functions\n",
        "  * FFT\n",
        "  * Signal and Image processing\n",
        "  * ODE solvers"
      ]
    },
    {
      "cell_type": "markdown",
      "id": "6cb02f11",
      "metadata": {
        "id": "6cb02f11"
      },
      "source": [
        "## How to Install SciPy?"
      ]
    },
    {
      "cell_type": "markdown",
      "id": "d28ff8fb",
      "metadata": {
        "id": "d28ff8fb"
      },
      "source": [
        "You can use pip to install SciPy-\n",
        "\n",
        "<font color='red'>pip install scipy</font>\n",
        "\n",
        "You can also use conda for the same-\n",
        "\n",
        "<font color='red'>conda install –c anaconda scipy</font>\n"
      ]
    },
    {
      "cell_type": "markdown",
      "id": "30f99a0b",
      "metadata": {
        "id": "30f99a0b"
      },
      "source": [
        "## SciPy Importing"
      ]
    },
    {
      "cell_type": "code",
      "execution_count": 1,
      "id": "fd1757eb",
      "metadata": {
        "id": "fd1757eb"
      },
      "outputs": [],
      "source": [
        "import scipy"
      ]
    },
    {
      "cell_type": "markdown",
      "source": [
        "## You will also want to interact with numpy here. Let’s import that too."
      ],
      "metadata": {
        "id": "lFBAieOnMf-9"
      },
      "id": "lFBAieOnMf-9"
    },
    {
      "cell_type": "code",
      "source": [
        "import numpy as np"
      ],
      "metadata": {
        "id": "d4hrP5B4MlLE"
      },
      "id": "d4hrP5B4MlLE",
      "execution_count": 2,
      "outputs": []
    },
    {
      "cell_type": "markdown",
      "id": "ef2cf192",
      "metadata": {
        "id": "ef2cf192"
      },
      "source": [
        "### <font color='green'>Binomial Distribution</font>"
      ]
    },
    {
      "cell_type": "code",
      "source": [
        "from scipy.stats import binom "
      ],
      "metadata": {
        "id": "SZBQ3oy2NAf0"
      },
      "id": "SZBQ3oy2NAf0",
      "execution_count": 3,
      "outputs": []
    },
    {
      "cell_type": "markdown",
      "source": [
        "### Cumulative distribution function - for less than or equal to 3"
      ],
      "metadata": {
        "id": "dO_E09CEOOAW"
      },
      "id": "dO_E09CEOOAW"
    },
    {
      "cell_type": "code",
      "execution_count": 4,
      "id": "31e012b6",
      "metadata": {
        "id": "31e012b6",
        "outputId": "c16e44cf-13b1-40ed-faa1-e4d87a7fc1ce",
        "colab": {
          "base_uri": "https://localhost:8080/"
        }
      },
      "outputs": [
        {
          "output_type": "execute_result",
          "data": {
            "text/plain": [
              "0.7635913575531722"
            ]
          },
          "metadata": {},
          "execution_count": 4
        }
      ],
      "source": [
        "binom.cdf(3, 25, 0.1)"
      ]
    },
    {
      "cell_type": "markdown",
      "source": [
        "### Probability mass function - for exact three defects"
      ],
      "metadata": {
        "id": "ph3vqu0lOSRU"
      },
      "id": "ph3vqu0lOSRU"
    },
    {
      "cell_type": "code",
      "execution_count": 5,
      "id": "cb3112f4",
      "metadata": {
        "id": "cb3112f4",
        "outputId": "02d4a54c-e703-41e0-e1ac-47d052ed0568",
        "colab": {
          "base_uri": "https://localhost:8080/"
        }
      },
      "outputs": [
        {
          "output_type": "execute_result",
          "data": {
            "text/plain": [
              "0.22649730750222946"
            ]
          },
          "metadata": {},
          "execution_count": 5
        }
      ],
      "source": [
        "binom.pmf(3, 25, 0.1)"
      ]
    },
    {
      "cell_type": "markdown",
      "source": [
        "### for more than 3 (similar to 1-cdf)"
      ],
      "metadata": {
        "id": "qMYFB7V2OeeF"
      },
      "id": "qMYFB7V2OeeF"
    },
    {
      "cell_type": "code",
      "source": [
        "binom.sf(3, 25, 0.1)"
      ],
      "metadata": {
        "colab": {
          "base_uri": "https://localhost:8080/"
        },
        "id": "wDilsGduOgX1",
        "outputId": "30f46ae3-96fc-4969-ddeb-e7b17fa8c28e"
      },
      "id": "wDilsGduOgX1",
      "execution_count": 6,
      "outputs": [
        {
          "output_type": "execute_result",
          "data": {
            "text/plain": [
              "0.23640864244682805"
            ]
          },
          "metadata": {},
          "execution_count": 6
        }
      ]
    },
    {
      "cell_type": "markdown",
      "source": [
        "### for mean of the distribution"
      ],
      "metadata": {
        "id": "B1ZJCMCQOnTl"
      },
      "id": "B1ZJCMCQOnTl"
    },
    {
      "cell_type": "code",
      "source": [
        "binom.mean(25,0.1)"
      ],
      "metadata": {
        "colab": {
          "base_uri": "https://localhost:8080/"
        },
        "id": "UBG40jaeOov8",
        "outputId": "5972fd5f-dd23-4d25-b49f-68abfba734b6"
      },
      "id": "UBG40jaeOov8",
      "execution_count": 11,
      "outputs": [
        {
          "output_type": "execute_result",
          "data": {
            "text/plain": [
              "2.5"
            ]
          },
          "metadata": {},
          "execution_count": 11
        }
      ]
    },
    {
      "cell_type": "markdown",
      "source": [
        "### for variance of the distribution"
      ],
      "metadata": {
        "id": "FS4MbpfoOo9L"
      },
      "id": "FS4MbpfoOo9L"
    },
    {
      "cell_type": "code",
      "source": [
        "binom.var(25,0.1)"
      ],
      "metadata": {
        "colab": {
          "base_uri": "https://localhost:8080/"
        },
        "id": "nH_wRnZLOsQE",
        "outputId": "8e0e6b31-8adf-4a88-baa1-e3e7a3075d02"
      },
      "id": "nH_wRnZLOsQE",
      "execution_count": 10,
      "outputs": [
        {
          "output_type": "execute_result",
          "data": {
            "text/plain": [
              "2.25"
            ]
          },
          "metadata": {},
          "execution_count": 10
        }
      ]
    },
    {
      "cell_type": "markdown",
      "source": [
        "### for standard deviation of the distribution"
      ],
      "metadata": {
        "id": "KsiMMAraOsnd"
      },
      "id": "KsiMMAraOsnd"
    },
    {
      "cell_type": "code",
      "source": [
        "binom.std(25,0.1)"
      ],
      "metadata": {
        "colab": {
          "base_uri": "https://localhost:8080/"
        },
        "id": "v2YGMIOFOw3d",
        "outputId": "749cf7ce-ea0d-465d-883b-6457c35115d3"
      },
      "id": "v2YGMIOFOw3d",
      "execution_count": 9,
      "outputs": [
        {
          "output_type": "execute_result",
          "data": {
            "text/plain": [
              "1.5"
            ]
          },
          "metadata": {},
          "execution_count": 9
        }
      ]
    },
    {
      "cell_type": "markdown",
      "source": [
        "### <font color='green'>Poisson Distribution</font>"
      ],
      "metadata": {
        "id": "0cSCdpKwPWqt"
      },
      "id": "0cSCdpKwPWqt"
    },
    {
      "cell_type": "code",
      "source": [
        "from scipy.stats import poisson  "
      ],
      "metadata": {
        "id": "DzMsEwALPXDA"
      },
      "id": "DzMsEwALPXDA",
      "execution_count": 12,
      "outputs": []
    },
    {
      "cell_type": "code",
      "source": [
        "poisson.pmf(7, 5) "
      ],
      "metadata": {
        "colab": {
          "base_uri": "https://localhost:8080/"
        },
        "id": "GW1f0YerP2J8",
        "outputId": "fd08e250-4a25-4bfd-8493-9ace9f363f49"
      },
      "id": "GW1f0YerP2J8",
      "execution_count": 14,
      "outputs": [
        {
          "output_type": "execute_result",
          "data": {
            "text/plain": [
              "0.10444486295705395"
            ]
          },
          "metadata": {},
          "execution_count": 14
        }
      ]
    },
    {
      "cell_type": "markdown",
      "source": [
        "### The same method is applied here (cdf,pmf,sf,mean,var,std)"
      ],
      "metadata": {
        "id": "WxyeQQpmPoFM"
      },
      "id": "WxyeQQpmPoFM"
    },
    {
      "cell_type": "markdown",
      "source": [
        "### <font color='green'>Normal Distribution</font>"
      ],
      "metadata": {
        "id": "gzvuPig4QEdj"
      },
      "id": "gzvuPig4QEdj"
    },
    {
      "cell_type": "code",
      "source": [
        "from scipy.stats import norm"
      ],
      "metadata": {
        "id": "yGzoEAjuQP6r"
      },
      "id": "yGzoEAjuQP6r",
      "execution_count": 15,
      "outputs": []
    },
    {
      "cell_type": "code",
      "source": [
        "norm.sf(50, 53, 2)"
      ],
      "metadata": {
        "colab": {
          "base_uri": "https://localhost:8080/"
        },
        "id": "_MikzQs9PlJj",
        "outputId": "c3e0f51b-5fa4-4018-c4e7-1e69f7b6b228"
      },
      "id": "_MikzQs9PlJj",
      "execution_count": 16,
      "outputs": [
        {
          "output_type": "execute_result",
          "data": {
            "text/plain": [
              "0.9331927987311419"
            ]
          },
          "metadata": {},
          "execution_count": 16
        }
      ]
    },
    {
      "cell_type": "markdown",
      "source": [
        "###  Probability density function (not Probability mass function) - for exact value"
      ],
      "metadata": {
        "id": "ibNtwuc6QZl8"
      },
      "id": "ibNtwuc6QZl8"
    },
    {
      "cell_type": "code",
      "source": [
        "x_ax = np.linspace(45,55, 13)\n",
        "x_ax"
      ],
      "metadata": {
        "colab": {
          "base_uri": "https://localhost:8080/"
        },
        "id": "3sJsu-OjQahY",
        "outputId": "d4bc0235-befe-4e5c-f622-1b92373a1b59"
      },
      "id": "3sJsu-OjQahY",
      "execution_count": 18,
      "outputs": [
        {
          "output_type": "execute_result",
          "data": {
            "text/plain": [
              "array([45.        , 45.83333333, 46.66666667, 47.5       , 48.33333333,\n",
              "       49.16666667, 50.        , 50.83333333, 51.66666667, 52.5       ,\n",
              "       53.33333333, 54.16666667, 55.        ])"
            ]
          },
          "metadata": {},
          "execution_count": 18
        }
      ]
    },
    {
      "cell_type": "code",
      "source": [
        "y_ax = norm.pdf(x_ax, 50, 2)\n",
        "y_ax"
      ],
      "metadata": {
        "colab": {
          "base_uri": "https://localhost:8080/"
        },
        "id": "PTnF5ZTtQftL",
        "outputId": "7a0d388f-e7a5-4fd9-8d55-a266b6ed83df"
      },
      "id": "PTnF5ZTtQftL",
      "execution_count": 20,
      "outputs": [
        {
          "output_type": "execute_result",
          "data": {
            "text/plain": [
              "array([0.00876415, 0.02277198, 0.04973857, 0.09132454, 0.14095594,\n",
              "       0.18288618, 0.19947114, 0.18288618, 0.14095594, 0.09132454,\n",
              "       0.04973857, 0.02277198, 0.00876415])"
            ]
          },
          "metadata": {},
          "execution_count": 20
        }
      ]
    },
    {
      "cell_type": "markdown",
      "source": [
        "# Thats the END ! :(...\n",
        "# Hope you have learned some new skills during the Tutorials .\n",
        "# Feel Free to share your opinions,feedbacks,... \n"
      ],
      "metadata": {
        "id": "-7Eych69Rh1V"
      },
      "id": "-7Eych69Rh1V"
    },
    {
      "cell_type": "code",
      "source": [
        ""
      ],
      "metadata": {
        "id": "EiEgqRbhQlAW"
      },
      "id": "EiEgqRbhQlAW",
      "execution_count": null,
      "outputs": []
    }
  ],
  "metadata": {
    "kernelspec": {
      "display_name": "Python 3",
      "language": "python",
      "name": "python3"
    },
    "language_info": {
      "codemirror_mode": {
        "name": "ipython",
        "version": 3
      },
      "file_extension": ".py",
      "mimetype": "text/x-python",
      "name": "python",
      "nbconvert_exporter": "python",
      "pygments_lexer": "ipython3",
      "version": "3.8.8"
    },
    "colab": {
      "name": "Tutorial3_SciPy.ipynb",
      "provenance": []
    }
  },
  "nbformat": 4,
  "nbformat_minor": 5
}